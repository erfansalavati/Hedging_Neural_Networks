{
 "cells": [
  {
   "cell_type": "code",
   "execution_count": null,
   "metadata": {},
   "outputs": [],
   "source": [
    "import sys\n",
    "import os\n",
    "# Append the library path to PYTHONPATH, so library can be imported.\n",
    "sys.path.append(os.path.dirname(os.getcwd()))\n",
    "import shutil\n",
    "\n",
    "import numpy as np\n",
    "import pandas as pd\n",
    "\n",
    "from library import network as nw\n",
    "from library import common as cm"
   ]
  },
  {
   "cell_type": "code",
   "execution_count": null,
   "metadata": {},
   "outputs": [],
   "source": [
    "%run setup.py\n",
    "\n",
    "np.random.seed(RANDOM_SEED)"
   ]
  },
  {
   "cell_type": "code",
   "execution_count": null,
   "metadata": {},
   "outputs": [],
   "source": [
    "%run Load_Clean_aux.py\n",
    "max_period = max([int(s[6:]) for s in df.columns if 'period' in s])"
   ]
  },
  {
   "cell_type": "markdown",
   "metadata": {},
   "source": [
    "#### Choose features and hypers"
   ]
  },
  {
   "cell_type": "code",
   "execution_count": null,
   "metadata": {},
   "outputs": [],
   "source": [
    "hypers = {\n",
    "    'nodes_per_layer': (30, 30),\n",
    "    'reg_alpha': 1e-3,\n",
    "    'lr': 1e-4,\n",
    "    'epochs': 3,\n",
    "    'outact': OUTACT\n",
    "}"
   ]
  },
  {
   "cell_type": "code",
   "execution_count": null,
   "metadata": {},
   "outputs": [],
   "source": [
    "if FEATURE_SET == 'normal_feature':\n",
    "    ori_fea = ['M0', 'tau0_implvol0']\n",
    "    sub_res = res_dir + 'Network/Normal_Feature/'\n",
    "\n",
    "    if OUTACT == 'normcdf':\n",
    "        sub_res  = sub_res[:-1] + '_CDF/'\n",
    "\n",
    "if FEATURE_SET == 'delta_vega':\n",
    "    ori_fea = ['delta_bs', '1_over_sqrt_tau', 'vega_n']\n",
    "    sub_res = res_dir + f\"Network/Delta_Vega/\"\n",
    "    \n",
    "    if OUTACT == 'normcdf':\n",
    "        sub_res  = sub_res[:-1] + '_CDF/'\n",
    "        \n",
    "        \n",
    "if FEATURE_SET == 'delta_vega_vanna':\n",
    "    ori_fea = ['delta_bs', '1_over_sqrt_tau', 'vega_n', 'vanna_n']\n",
    "    sub_res = res_dir + 'Network/Delta_Vega_Vanna/'\n",
    "\n",
    "    \n",
    "if FEATURE_SET == 'spot_strike':\n",
    "    ori_fea = ['S0_n', 'K_n', 'tau0_implvol0']\n",
    "    sub_res = res_dir + 'Network/Spot_Strike/'\n",
    "\n",
    "if FEATURE_SET == 'spot_strike_2':\n",
    "    ori_fea = ['S0', 'K', 'tau0_implvol0']\n",
    "    sub_res = res_dir + 'Network/Spot_Strike_2/'\n",
    "    \n",
    "\n",
    "if VIX:\n",
    "    ori_fea += ['fake_vix']\n",
    "\n",
    "use_fea = [x + '_t' for x in ori_fea] + ['cp_int']\n",
    "\n",
    "if AGG_SIDE_FLAG:\n",
    "    use_fea += ['AggressorSide']\n",
    "\n",
    "os.makedirs(sub_res, exist_ok=True)\n",
    "# Copy data setup file from the clean data folder, and then append network setup.\n",
    "shutil.copy('setup.py', sub_res)\n",
    "print(f'Result is stored at:\\n{sub_res}')"
   ]
  },
  {
   "cell_type": "markdown",
   "metadata": {},
   "source": [
    "#### Step 4: Train a network with given hypers"
   ]
  },
  {
   "cell_type": "code",
   "execution_count": null,
   "metadata": {
    "scrolled": true
   },
   "outputs": [],
   "source": [
    "if not PERMUTE:\n",
    "    \"\"\"\n",
    "    Here, we use a bit different structure as the simulation data.\n",
    "    In case of no permutation, there are only one ckp, history, plot folder.\n",
    "    In case of permuation, in each of ckp, history and plot folders, we have many permutation folders.\n",
    "\n",
    "    As for the pnl folder:\n",
    "    In case of no permutation, only one pnl file.\n",
    "    in case of permutations, many pnl files.\n",
    "    This is consistent as the regression folder.\n",
    "    \"\"\"\n",
    "    sub_res_dir = {\n",
    "        'ckp': sub_res + 'ckp/',\n",
    "        'history': sub_res + 'history/',\n",
    "        'pnl': sub_res + 'pnl/',\n",
    "        'plot': sub_res + 'plot/'}\n",
    "    \n",
    "    for key, value in sub_res_dir.items():\n",
    "        os.makedirs(value, exist_ok=True)\n",
    "        \n",
    "    df = nw.rolling_net(\n",
    "        df,\n",
    "        ori_fea=ori_fea,\n",
    "        use_fea=use_fea,\n",
    "        end_period=max_period,\n",
    "        hypers=hypers,\n",
    "        sub_res_dir=sub_res_dir)\n",
    "    \n",
    "    cm.store_pnl(df, df['delta_nn'], sub_res_dir['pnl'] + 'pnl.csv')"
   ]
  },
  {
   "cell_type": "code",
   "execution_count": null,
   "metadata": {},
   "outputs": [],
   "source": [
    "df.loc[3196783]"
   ]
  },
  {
   "cell_type": "code",
   "execution_count": null,
   "metadata": {},
   "outputs": [],
   "source": [
    "if PERMUTE:\n",
    "    for p in range(NUM_PERMUTE):\n",
    "        \"\"\"\n",
    "        We keep all the pnl in the same folder, because each\n",
    "        permute only has one pnl files and we can use the same code \n",
    "        for evaluation. But ckp, history, and plots are in \n",
    "        different permutations sub folders respectively.\n",
    "        \"\"\"\n",
    "        sub_res_dir = {\n",
    "            'ckp': sub_res + f'ckp/permute{p}/',\n",
    "            'history': sub_res + f'history/permute{p}/',\n",
    "            'pnl': sub_res + f'pnl/',\n",
    "            'plot': sub_res + f'plot/permute{p}/'\n",
    "        }\n",
    "        \n",
    "        for key, value in sub_res_dir.items():\n",
    "            os.makedirs(value, exist_ok=True)\n",
    "        \n",
    "        df_permute = df.copy()\n",
    "        df_permute = cm.rolling_permute(df_permute, random_seed=i+100)\n",
    "\n",
    "        df_permute = nw.rolling_permute(\n",
    "            df_permute, \n",
    "            ori_fea=ori_fea, \n",
    "            use_fea=use_fea, \n",
    "            hypers=hypers, \n",
    "            sub_res_dir=sub_res_dir)\n",
    "        \n",
    "        cm.store_pnl(df_permute, df_permute['delta_nn'], sub_res_dir['pnl'] + f'pnl{p}.csv')"
   ]
  },
  {
   "cell_type": "code",
   "execution_count": null,
   "metadata": {},
   "outputs": [],
   "source": [
    "with open(f'{sub_res}additional_paras.txt', 'a') as file:\n",
    "    file.write('\\n\\nThe following is network setup.\\n')\n",
    "    file.write(f'Date and time = {datetime.datetime.now()}\\n')\n",
    "    for n, x in [\n",
    "        ('Learning rate', hypers['lr']),\n",
    "        ('L2 regularization alpha', hypers['reg_alpha']),\n",
    "        ('Output node activation', hypers['outact']),\n",
    "        ('Nodes per layer', hypers['nodes_per_layer']),\n",
    "        ('Number of training epochs', hypers['epochs'])\n",
    "    ]:\n",
    "        file.write(f'{n} = {x}\\n')"
   ]
  },
  {
   "cell_type": "code",
   "execution_count": null,
   "metadata": {},
   "outputs": [],
   "source": []
  },
  {
   "cell_type": "code",
   "execution_count": null,
   "metadata": {},
   "outputs": [],
   "source": []
  }
 ],
 "metadata": {
  "kernelspec": {
   "display_name": "Python 3",
   "language": "python",
   "name": "python3"
  },
  "language_info": {
   "codemirror_mode": {
    "name": "ipython",
    "version": 3
   },
   "file_extension": ".py",
   "mimetype": "text/x-python",
   "name": "python",
   "nbconvert_exporter": "python",
   "pygments_lexer": "ipython3",
   "version": "3.6.8"
  },
  "toc": {
   "base_numbering": 1,
   "nav_menu": {},
   "number_sections": true,
   "sideBar": true,
   "skip_h1_title": false,
   "title_cell": "Table of Contents",
   "title_sidebar": "Contents",
   "toc_cell": false,
   "toc_position": {},
   "toc_section_display": true,
   "toc_window_display": false
  }
 },
 "nbformat": 4,
 "nbformat_minor": 2
}
