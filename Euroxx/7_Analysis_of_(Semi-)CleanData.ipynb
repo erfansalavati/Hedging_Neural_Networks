{
 "cells": [
  {
   "cell_type": "code",
   "execution_count": null,
   "metadata": {},
   "outputs": [],
   "source": [
    "import sys\n",
    "import os\n",
    "# Append the library path to PYTHONPATH, so library can be imported.\n",
    "sys.path.append(os.path.dirname(os.getcwd()))\n",
    "import datetime\n",
    "\n",
    "import numpy as np\n",
    "import pandas as pd\n",
    "import seaborn as sns\n",
    "import matplotlib.pyplot as plt\n",
    "\n",
    "\n",
    "from scipy.stats import norm\n",
    "\n",
    "from library import common as cm\n",
    "from library import plot\n",
    "from library import regression_aux as raux"
   ]
  },
  {
   "cell_type": "code",
   "execution_count": null,
   "metadata": {},
   "outputs": [],
   "source": [
    "%run setup.py\n",
    "%matplotlib inline\n",
    "%load_ext autoreload\n",
    "%autoreload 2\n",
    "\n",
    "np.random.seed(RANDOM_SEED)\n",
    "sns.set(style='darkgrid')"
   ]
  },
  {
   "cell_type": "code",
   "execution_count": null,
   "metadata": {},
   "outputs": [],
   "source": []
  },
  {
   "cell_type": "code",
   "execution_count": null,
   "metadata": {},
   "outputs": [],
   "source": [
    "time_cols = ['ExecuteTime' + value[1] for key, value in OFFSET_DICT.items()]\n",
    "df = pd.read_csv(\n",
    "    DATA_DIR + f'CleanData/options.csv',\n",
    "    index_col=0,\n",
    "    parse_dates=['ExecuteTime0', 'FuturesExpiry', 'Expiry', 'date'] + time_cols,\n",
    "    dtype={'SecurityType': 'category',\n",
    "            'TrdType': 'category',\n",
    "            'AggressorSide': 'category',\n",
    "          'cp_int': 'int'})"
   ]
  },
  {
   "cell_type": "code",
   "execution_count": null,
   "metadata": {},
   "outputs": [],
   "source": [
    "df_real_1 = df.loc[(df['date'] > pd.Timestamp(2016, 1, 1)) & (df['date'] < pd.Timestamp(2016, 4, 1))]\n",
    "df_real_2 = df.loc[(df['date'] > pd.Timestamp(2017, 7, 1)) & (df['date'] < pd.Timestamp(2017, 10, 1))]\n",
    "\n",
    "ops_1 = df_real_1['SecurityID'].unique()\n",
    "ops_2 = df_real_2['SecurityID'].unique()\n",
    "\n",
    "bl = [(i in ops_1) or (i in ops_2) for i in df['SecurityID']]\n",
    "df_real = df.loc[bl]"
   ]
  },
  {
   "cell_type": "code",
   "execution_count": null,
   "metadata": {},
   "outputs": [],
   "source": [
    "df_spot = pd.read_csv(f'{DATA_DIR}RawData/stoxx50.csv',\n",
    "                     usecols=['Date', 'Last Price'], dayfirst=True,\n",
    "                     parse_dates=['Date'])\n",
    "df_spot.rename(columns={'Last Price': 'Spot',\n",
    "                       'Date': 'date'}, inplace=True)\n",
    "\n",
    "df_spot = df_spot.set_index('date')\n",
    "df_spot = df_spot.loc[\n",
    "    (df_spot.index > pd.Timestamp('2016/01/01')) & (df_spot.index < pd.Timestamp('2018/07/27'))]"
   ]
  },
  {
   "cell_type": "code",
   "execution_count": null,
   "metadata": {},
   "outputs": [],
   "source": [
    "groups = df_real.groupby('SecurityID')\n",
    "\n",
    "fig_, ax_ = plt.subplots(figsize=(12, 6))\n",
    "\n",
    "for key, g in groups:\n",
    "    if g.shape[0] < 1000:\n",
    "        continue\n",
    "    if key in ops_1:\n",
    "        color='r'   \n",
    "    else:\n",
    "        color='black'\n",
    "    ax_.hlines(y=g['K'].min() + 100*np.random.standard_normal(),\n",
    "              xmin=g['date'].min(),\n",
    "              xmax=g['Expiry'].max(),\n",
    "              alpha=1., lw=0.5, color=color)\n",
    "ax_.plot(df_spot.index, df_spot['Spot'].values)\n",
    "fig_.autofmt_xdate()"
   ]
  },
  {
   "cell_type": "code",
   "execution_count": null,
   "metadata": {},
   "outputs": [],
   "source": []
  },
  {
   "cell_type": "code",
   "execution_count": null,
   "metadata": {
    "scrolled": true
   },
   "outputs": [],
   "source": [
    "\"\"\"  Remember to run with 1D!!! setup , everything default.\"\"\"\n",
    "%run Load_Clean_aux.py"
   ]
  },
  {
   "cell_type": "code",
   "execution_count": null,
   "metadata": {},
   "outputs": [],
   "source": [
    "\" 3.2 is the maximum of maturity in the SP500 data, we do this to keep consistency of plots.\"\n",
    "print(f\"Remove time-to-maturity less than 3.2 years, {(df['tau0'] >= 3.2).sum()} samples were removed\")\n",
    "df = df.loc[df['tau0'] < 3.2]"
   ]
  },
  {
   "cell_type": "code",
   "execution_count": null,
   "metadata": {},
   "outputs": [],
   "source": [
    "plt.hist(df['M0'], bins=50);\n",
    "plt.xlabel('Moneyness')\n",
    "plt.yscale('log')\n",
    "plt.title('Euro Stoxx 50')\n",
    "plt.ylim((1e3, 3e5))\n",
    "plt.yticks((1e3, 1e4, 1e5), (1000, 10000, 100000))"
   ]
  },
  {
   "cell_type": "code",
   "execution_count": null,
   "metadata": {},
   "outputs": [],
   "source": [
    "plt.hist(df['tau0'], bins=50);\n",
    "plt.xlabel('Time-to-maturity')\n",
    "plt.yscale('log')\n",
    "plt.title('Euro Stoxx 50')\n",
    "plt.ylim((1e2, 1e6))\n",
    "plt.yticks((1e2, 1e3, 1e4, 1e5,  1e6), (100, 1000, 10000, 100000, 1000000))\n",
    "plt.xlim((0., 3.2))"
   ]
  },
  {
   "cell_type": "code",
   "execution_count": null,
   "metadata": {},
   "outputs": [],
   "source": [
    "df['implvol0'].hist(bins=50)"
   ]
  },
  {
   "cell_type": "code",
   "execution_count": null,
   "metadata": {},
   "outputs": [],
   "source": [
    "df.loc[df['cp_int'] == 0, 'delta_bs'].hist(bins=50)"
   ]
  },
  {
   "cell_type": "code",
   "execution_count": null,
   "metadata": {},
   "outputs": [],
   "source": [
    "plt.hist(norm.ppf(df.loc[df['cp_int'] == 0, 'delta_bs']), bins=50);"
   ]
  },
  {
   "cell_type": "code",
   "execution_count": null,
   "metadata": {},
   "outputs": [],
   "source": [
    "df.loc[df['cp_int'] == 1, 'delta_bs'].hist(bins=50)"
   ]
  },
  {
   "cell_type": "code",
   "execution_count": null,
   "metadata": {},
   "outputs": [],
   "source": [
    "x = norm.ppf(np.minimum(0.999, df.loc[df['cp_int'] == 1, 'delta_bs'] + 1))\n",
    "plt.hist(x, bins=50);"
   ]
  },
  {
   "cell_type": "code",
   "execution_count": null,
   "metadata": {},
   "outputs": [],
   "source": [
    "df_spot = pd.read_csv(f'{DATA_DIR}RawData/stoxx50.csv',\n",
    "                     usecols=['Date', 'Last Price'], dayfirst=True,\n",
    "                     parse_dates=['Date'])\n",
    "df_spot.rename(columns={'Last Price': 'Spot',\n",
    "                       'Date': 'date'}, inplace=True)\n",
    "\n",
    "df_spot = df_spot.set_index('date')\n",
    "df_spot = df_spot.loc[\n",
    "    (df_spot.index > pd.Timestamp('2016/01/01')) & (df_spot.index < pd.Timestamp('2018/07/27'))]"
   ]
  },
  {
   "cell_type": "code",
   "execution_count": null,
   "metadata": {},
   "outputs": [],
   "source": [
    "df_s = df[['S0', 'ExecuteTime0']]\n",
    "df_s = df_s.set_index('ExecuteTime0')\n",
    "df_s.rename(columns={'S0': 'Futures'}, inplace=True)\n",
    "df_s_last = df_s.resample('D').last()"
   ]
  },
  {
   "cell_type": "code",
   "execution_count": null,
   "metadata": {},
   "outputs": [],
   "source": [
    "df_spot_last = df_spot.resample('D').last()\n",
    "\n",
    "fig, ax = plt.subplots(figsize=(8, 4))\n",
    "df_s_last.plot(ax=ax, c='red', label='Futures')\n",
    "df_spot_last.plot(ax=ax, c='black', label='Spot')\n",
    "plt.legend()"
   ]
  },
  {
   "cell_type": "code",
   "execution_count": null,
   "metadata": {},
   "outputs": [],
   "source": [
    "df_vol = df[['implvol0', 'ExecuteTime0', 'cp_int']]\n",
    "df_vol = df_vol.set_index('ExecuteTime0')"
   ]
  },
  {
   "cell_type": "code",
   "execution_count": null,
   "metadata": {},
   "outputs": [],
   "source": [
    "\" Daily volatility \"\n",
    "df_vol.resample('D')['implvol0'].mean().plot()"
   ]
  },
  {
   "cell_type": "code",
   "execution_count": null,
   "metadata": {},
   "outputs": [],
   "source": [
    "max_period = max([int(s[6:]) for s in df.columns if 'period' in s])"
   ]
  },
  {
   "cell_type": "code",
   "execution_count": null,
   "metadata": {
    "scrolled": true
   },
   "outputs": [],
   "source": [
    "nums_call_train, nums_put_train = [], []\n",
    "nums_call_test, nums_put_test = [], []\n",
    "\n",
    "\n",
    "for i in range(max_period + 1):\n",
    "    nums_call_train.append((((df[f'period{i}'] == 0) | (df[f'period{i}'] == 1)) & (df['cp_int'] == 0)).sum())\n",
    "    nums_put_train.append((((df[f'period{i}'] == 0) | (df[f'period{i}'] == 1)) & (df['cp_int'] == 1)).sum())\n",
    "    nums_call_test.append(((df[f'period{i}'] == 2) & (df['cp_int'] == 0)).sum())\n",
    "    nums_put_test.append(((df[f'period{i}'] == 2) & (df['cp_int'] == 1)).sum())\n",
    "\n",
    "ind = np.arange(1, max_period+2)\n",
    "width = 0.3\n",
    "p1 = plt.bar(ind, nums_call_train, width=width)\n",
    "p2 = plt.bar(ind, nums_put_train, bottom=nums_call_train, width=width)\n",
    "p3 = plt.bar(ind+width, nums_call_test, width=width)\n",
    "p4 = plt.bar(ind+width, nums_put_test, bottom=nums_call_test, width=width)\n",
    "plt.legend((p1[0], p2[0], p3[0], p4[0]), \n",
    "           ('In-sample call', 'In-sample put', 'Out-of-sample call', 'Out-of-sample put'), \n",
    "           frameon=False)\n",
    "plt.xticks([1], [' '])\n",
    "plt.ylabel('# Samples')\n",
    "plt.xlabel(' ')\n",
    "plt.title('Euro Stoxx 50')\n",
    "#plt.ylim((0., 400000))"
   ]
  },
  {
   "cell_type": "code",
   "execution_count": null,
   "metadata": {},
   "outputs": [],
   "source": [
    "max_period"
   ]
  },
  {
   "cell_type": "code",
   "execution_count": null,
   "metadata": {},
   "outputs": [],
   "source": [
    "#max_period = 4\n",
    "if FREQ == '1D':\n",
    "    num_d = 1\n",
    "    annual_cof = 253 / num_d\n",
    "if FREQ == '2D':\n",
    "    num_d = 2\n",
    "    annual_cof = 253 / num_d\n",
    "if FREQ == '1H':\n",
    "    num_d = 1/9\n",
    "    annual_cof = 253 / num_d"
   ]
  },
  {
   "cell_type": "code",
   "execution_count": null,
   "metadata": {},
   "outputs": [],
   "source": [
    "[df_vol_train, df_vol_test, df_return_train, df_return_test] = [pd.Series(index=range(max_period + 1)) for _ in range(4)]\n",
    "for i in range(max_period + 1):\n",
    "    df_train = df.loc[(df[f'period{i}'] == 0) | (df[f'period{i}'] == 1)]\n",
    "    df_test = df.loc[df[f'period{i}'] == 2]\n",
    "    df_train = df_train[['S0', 'S1', 'ExecuteTime0']].set_index('ExecuteTime0')\n",
    "    df_test = df_test[['S0', 'S1', 'ExecuteTime0']].set_index('ExecuteTime0')\n",
    "    \n",
    "    for df_tmp, (df_vol_tmp, df_return_tmp) in zip([df_train, df_test], \n",
    "                                                   [(df_vol_train, df_return_train), (df_vol_test, df_return_test)]):\n",
    "        window_return = np.log(df_tmp['S1'] / df_tmp['S0']).resample(FREQ).mean()\n",
    "        df_vol_tmp.loc[i] = window_return.std() * np.sqrt(annual_cof)\n",
    "        df_return_tmp.loc[i] = (window_return.mean()  * annual_cof)\n",
    "\n",
    "plt.errorbar(df_vol_train.index + 1 - 0.1, df_return_train, yerr=df_vol_train, fmt='o', label='In-sample')\n",
    "plt.errorbar(df_vol_test.index + 1 + 0.1, df_return_test, yerr=df_vol_test, fmt='o', label='Out-of-sample')\n",
    "plt.legend(frameon=False)\n",
    "plt.ylabel('Annualized return of Euro Stoxx 50')\n",
    "plt.xlabel('Time window')\n",
    "plt.title('1 hour')\n",
    "plt.ylim((-0.4, 0.4))\n",
    "plt.xticks(df_vol_train.index+1)"
   ]
  },
  {
   "cell_type": "code",
   "execution_count": null,
   "metadata": {},
   "outputs": [],
   "source": [
    "\" Average Vega \"\n",
    "mat = [(0, 0., 1., 'call', 'all'), \n",
    "      (1, 0., 1., 'put', 'all')]\n",
    "vega_mean = pd.DataFrame()\n",
    "leve = pd.DataFrame()\n",
    "catch = None\n",
    "for i in range(max_period + 1):\n",
    "    df_train = df.loc[(df[f'period{i}'] == 0) | (df[f'period{i}'] == 1)]\n",
    "    for c, mat_low, mat_high, n1, n2 in mat:\n",
    "        bl1 = df_train['cp_int'] == c\n",
    "        bl2 = df_train['tau0'] >= mat_low\n",
    "        bl3 = df_train['tau0'] < mat_high\n",
    "        bl = bl1 & bl2 & bl3\n",
    "        vega_mean.loc[i, f'{n1}_{n2}'] = df_train.loc[bl, 'vega_n'].mean()\n",
    "        df_train.loc[bl, 'vega_n'].mean()\n",
    "        \n",
    "        try:\n",
    "            leve.loc[i, f'{n1}_{n2}'] = raux.fit_leverage(df_train.loc[bl])\n",
    "        except ValueError:\n",
    "            print('error')\n",
    "            catch = df_train.loc[bl]\n",
    "\n",
    "vega_mean.plot(marker='o', linewidth=0)"
   ]
  },
  {
   "cell_type": "code",
   "execution_count": null,
   "metadata": {},
   "outputs": [],
   "source": []
  },
  {
   "cell_type": "code",
   "execution_count": null,
   "metadata": {},
   "outputs": [],
   "source": [
    "mat = [(0, 0., 1/12., 'Call', 'short'), (0, 1/12., 1/2., 'Call', 'middle'), (0, 1/2., 2., 'Call', 'long'),\n",
    "      (1, 0., 1/12., 'Put', 'short'), (1, 1/12., 1/2., 'Put', 'middle'), (1, 1/2., 5., 'Put', 'long')]\n",
    "vega_mean = pd.DataFrame()\n",
    "leve = pd.DataFrame()\n",
    "num = pd.DataFrame()\n",
    "\n",
    "for i in range(max_period + 1):\n",
    "    df_train = df.loc[(df[f'period{i}'] == 0) | (df[f'period{i}'] == 1)]\n",
    "    for c, mat_low, mat_high, n1, n2 in mat:\n",
    "        bl1 = df_train['cp_int'] == c\n",
    "        bl2 = df_train['tau0'] >= mat_low\n",
    "        bl3 = df_train['tau0'] < mat_high\n",
    "        bl = bl1 & bl2 & bl3\n",
    "        \n",
    "        num.loc[i, f'{n1} ({n2})'] = (bl1 & bl2 & bl3).sum()\n",
    "        \n",
    "        vega_mean.loc[i, f'{n1} ({n2})'] = df_train.loc[bl, 'vega_n'].mean()\n",
    "        leve.loc[i, f'{n1} ({n2})'] = raux.fit_leverage(df_train.loc[bl])"
   ]
  },
  {
   "cell_type": "code",
   "execution_count": null,
   "metadata": {},
   "outputs": [],
   "source": [
    "cat = ['Put (long)', 'Call (long)', 'Put (middle)','Call (middle)', 'Put (short)' , 'Call (short)']"
   ]
  },
  {
   "cell_type": "code",
   "execution_count": null,
   "metadata": {
    "scrolled": false
   },
   "outputs": [],
   "source": [
    "for x in cat:\n",
    "    plt.plot(leve.index+1, leve[x], marker='o', label=x, linewidth=0)\n",
    "#plt.legend()\n",
    "plt.ylim((-0.45, 0.5))\n",
    "plt.legend(bbox_to_anchor=(0,-.35,1,0.2), loc=\"lower left\",\n",
    "                mode=\"expand\", borderaxespad=0, ncol=3)\n",
    "plt.xticks(leve.index+1, [' '])\n",
    "plt.xlabel(' ')\n",
    "plt.ylabel('Leverage coefficient')\n",
    "plt.title('Euro Stoxx 50')"
   ]
  },
  {
   "cell_type": "code",
   "execution_count": null,
   "metadata": {},
   "outputs": [],
   "source": []
  },
  {
   "cell_type": "code",
   "execution_count": null,
   "metadata": {},
   "outputs": [],
   "source": []
  }
 ],
 "metadata": {
  "kernelspec": {
   "display_name": "Python 3",
   "language": "python",
   "name": "python3"
  },
  "language_info": {
   "codemirror_mode": {
    "name": "ipython",
    "version": 3
   },
   "file_extension": ".py",
   "mimetype": "text/x-python",
   "name": "python",
   "nbconvert_exporter": "python",
   "pygments_lexer": "ipython3",
   "version": "3.6.8"
  },
  "toc": {
   "base_numbering": 1,
   "nav_menu": {},
   "number_sections": true,
   "sideBar": true,
   "skip_h1_title": false,
   "title_cell": "Table of Contents",
   "title_sidebar": "Contents",
   "toc_cell": false,
   "toc_position": {},
   "toc_section_display": true,
   "toc_window_display": false
  }
 },
 "nbformat": 4,
 "nbformat_minor": 2
}